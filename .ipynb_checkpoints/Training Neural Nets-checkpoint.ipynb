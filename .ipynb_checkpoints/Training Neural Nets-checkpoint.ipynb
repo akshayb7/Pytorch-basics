{
 "cells": [
  {
   "cell_type": "markdown",
   "metadata": {},
   "source": [
    "Load in the data first"
   ]
  },
  {
   "cell_type": "code",
   "execution_count": 12,
   "metadata": {},
   "outputs": [],
   "source": [
    "import torch\n",
    "from torch import nn, optim\n",
    "import torch.nn.functional as F\n",
    "from torchvision import datasets, transforms\n",
    "from collections import OrderedDict\n",
    "import matplotlib.pyplot as plt\n",
    "\n",
    "transform = transforms.Compose([transforms.ToTensor(),\n",
    "                               transforms.Normalize((0.5,0.5,0.5),(0.5,0.5,0.5))])\n",
    "\n",
    "trainset = datasets.MNIST('~/.pytorch/MNIST_data/', download=True, train=True, transform=transform)\n",
    "trainloader = torch.utils.data.DataLoader(trainset, batch_size=64, shuffle=True)"
   ]
  },
  {
   "cell_type": "markdown",
   "metadata": {},
   "source": [
    "Define the model"
   ]
  },
  {
   "cell_type": "code",
   "execution_count": 2,
   "metadata": {},
   "outputs": [
    {
     "data": {
      "text/plain": [
       "Sequential(\n",
       "  (hidden1): Linear(in_features=784, out_features=256, bias=True)\n",
       "  (Relu1): ReLU()\n",
       "  (hidden2): Linear(in_features=256, out_features=64, bias=True)\n",
       "  (Relu2): ReLU()\n",
       "  (output): Linear(in_features=64, out_features=10, bias=True)\n",
       "  (log_softmax): LogSoftmax()\n",
       ")"
      ]
     },
     "execution_count": 2,
     "metadata": {},
     "output_type": "execute_result"
    }
   ],
   "source": [
    "model = nn.Sequential(\n",
    "    OrderedDict([\n",
    "        ('hidden1', nn.Linear(784,256)),\n",
    "        ('Relu1', nn.ReLU()),\n",
    "        ('hidden2', nn.Linear(256,64)),\n",
    "        ('Relu2', nn.ReLU()),\n",
    "        ('output', nn.Linear(64,10)),\n",
    "        ('log_softmax', nn.LogSoftmax(dim=1))\n",
    "    ]))\n",
    "\n",
    "model"
   ]
  },
  {
   "cell_type": "markdown",
   "metadata": {},
   "source": [
    "Set up loss function"
   ]
  },
  {
   "cell_type": "code",
   "execution_count": 4,
   "metadata": {},
   "outputs": [
    {
     "name": "stdout",
     "output_type": "stream",
     "text": [
      "tensor([[0.0890, 0.0775, 0.1154, 0.0891, 0.1242, 0.0881, 0.1052, 0.1215, 0.1101,\n",
      "         0.0798]], grad_fn=<ExpBackward>)\n",
      "tensor(2.4177, grad_fn=<NllLossBackward>)\n",
      "tensor(2.3230, grad_fn=<NllLossBackward>)\n"
     ]
    }
   ],
   "source": [
    "criterion = nn.NLLLoss() # Negative Log Likelihood loss\n",
    "\n",
    "# Run\n",
    "images, labels = next(iter(trainloader))\n",
    "\n",
    "# Loss calc for single image\n",
    "out = model(images[0].view(1,-1))\n",
    "probabilities = torch.exp(out)\n",
    "print(probabilities)\n",
    "\n",
    "print(criterion(out, labels[0].view(1)))\n",
    "\n",
    "# Loss calc for a batch\n",
    "log_ps = model(images.view(images.shape[0], -1)) # Basically batch size * 784 here\n",
    "\n",
    "loss = criterion(log_ps, labels)\n",
    "\n",
    "print(loss)"
   ]
  },
  {
   "cell_type": "markdown",
   "metadata": {},
   "source": [
    "Set up optimizer"
   ]
  },
  {
   "cell_type": "code",
   "execution_count": 6,
   "metadata": {},
   "outputs": [],
   "source": [
    "optimizer = optim.Adam(model.parameters(), lr = 0.01)"
   ]
  },
  {
   "cell_type": "markdown",
   "metadata": {},
   "source": [
    "Set up a training loop"
   ]
  },
  {
   "cell_type": "code",
   "execution_count": 7,
   "metadata": {},
   "outputs": [
    {
     "name": "stdout",
     "output_type": "stream",
     "text": [
      "Epoch: 1, loss: 0.3840305334223168\n",
      "Epoch: 2, loss: 0.22869185728432018\n",
      "Epoch: 3, loss: 0.20497976189483202\n",
      "Epoch: 4, loss: 0.19958077462068372\n",
      "Epoch: 5, loss: 0.19012842852987652\n"
     ]
    }
   ],
   "source": [
    "epochs = 5\n",
    "\n",
    "for e in range(epochs):\n",
    "    running_loss = 0\n",
    "    for images, labels in trainloader:\n",
    "        optimizer.zero_grad() #Set gradients equal to zero before a pass\n",
    "        \n",
    "        images = images.view(images.shape[0],-1) #Reshape images\n",
    "        \n",
    "        log_ps = model(images) #Forward pass\n",
    "        loss = criterion(log_ps, labels) #Calculate loss\n",
    "        loss.backward() #Backprop\n",
    "        optimizer.step() #Update weights\n",
    "        running_loss += loss.item()\n",
    "    \n",
    "    print('Epoch: {}, loss: {}'.format(e+1, running_loss/len(trainloader)))"
   ]
  },
  {
   "cell_type": "markdown",
   "metadata": {},
   "source": [
    "Check predictions"
   ]
  },
  {
   "cell_type": "code",
   "execution_count": 15,
   "metadata": {},
   "outputs": [
    {
     "name": "stdout",
     "output_type": "stream",
     "text": [
      "Label:  tensor(8)\n",
      "Prediction:  tensor(8)\n"
     ]
    },
    {
     "data": {
      "text/plain": [
       "<matplotlib.image.AxesImage at 0x1e91b215278>"
      ]
     },
     "execution_count": 15,
     "metadata": {},
     "output_type": "execute_result"
    },
    {
     "data": {
      "image/png": "[encoded data removed]",
      "text/plain": [
       "<Figure size 432x288 with 1 Axes>"
      ]
     },
     "metadata": {
      "needs_background": "light"
     },
     "output_type": "display_data"
    }
   ],
   "source": [
    "images, labels = next(iter(trainloader))\n",
    "\n",
    "img = images[1].view(1,784)\n",
    "\n",
    "with torch.no_grad(): #Turn gradient tracking off while prediction\n",
    "    log_ps = model(img)\n",
    "    ps = torch.exp(log_ps)\n",
    "\n",
    "print('Label: ',labels[1])\n",
    "print('Prediction: ', ps.argmax())\n",
    "plt.imshow(images[1].view(28,28), cmap='Greys_r')"
   ]
  },
  {
   "cell_type": "markdown",
   "metadata": {},
   "source": [
    "So the steps to train a NN:\n",
    " * Load in data\n",
    " * Define model architecture\n",
    " * Set up loss function and optimizer\n",
    " * Run forward pass, calculate loss, update weight, repeat (training loop)\n",
    " * Check predictions"
   ]
  }
 ],
 "metadata": {
  "kernelspec": {
   "display_name": "Python (fastai-3.7)",
   "language": "python",
   "name": "fastai-3.7"
  },
  "language_info": {
   "codemirror_mode": {
    "name": "ipython",
    "version": 3
   },
   "file_extension": ".py",
   "mimetype": "text/x-python",
   "name": "python",
   "nbconvert_exporter": "python",
   "pygments_lexer": "ipython3",
   "version": "3.7.1"
  }
 },
 "nbformat": 4,
 "nbformat_minor": 2
}
