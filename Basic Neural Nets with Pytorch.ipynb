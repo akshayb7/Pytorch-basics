{
 "cells": [
  {
   "cell_type": "code",
   "execution_count": 2,
   "metadata": {},
   "outputs": [],
   "source": [
    "%matplotlib inline\n",
    "%config InlineBackend.figure_format = 'retina'\n",
    "\n",
    "import torch\n",
    "from torchvision import datasets,transforms\n",
    "import numpy as np\n",
    "import matplotlib.pyplot as plt"
   ]
  },
  {
   "cell_type": "code",
   "execution_count": 3,
   "metadata": {},
   "outputs": [],
   "source": [
    "transform = transforms.Compose([transforms.ToTensor(),\n",
    "                               transforms.Normalize((0.5,),(0.5,))])\n",
    "\n",
    "trainset = datasets.MNIST('~/.pytorch/MNIST_data/', download=True, train=True, transform=transform)\n",
    "trainloader = torch.utils.data.DataLoader(trainset,batch_size=32, shuffle = True)"
   ]
  },
  {
   "cell_type": "code",
   "execution_count": 4,
   "metadata": {},
   "outputs": [
    {
     "name": "stdout",
     "output_type": "stream",
     "text": [
      "<class 'torch.Tensor'>\n",
      "torch.Size([32, 1, 28, 28])\n",
      "torch.Size([32])\n"
     ]
    }
   ],
   "source": [
    "dataiter = iter(trainloader)\n",
    "images, labels = dataiter.next()\n",
    "print(type(images))\n",
    "print(images.shape)\n",
    "print(labels.shape)"
   ]
  },
  {
   "cell_type": "code",
   "execution_count": 15,
   "metadata": {},
   "outputs": [
    {
     "data": {
      "text/plain": [
       "<matplotlib.image.AxesImage at 0x2611ba89780>"
      ]
     },
     "execution_count": 15,
     "metadata": {},
     "output_type": "execute_result"
    },
    {
     "data": {
      "image/png": "[encoded data removed]",
      "text/plain": [
       "<Figure size 432x288 with 1 Axes>"
      ]
     },
     "metadata": {
      "image/png": {
       "height": 250,
       "width": 253
      },
      "needs_background": "light"
     },
     "output_type": "display_data"
    }
   ],
   "source": [
    "plt.imshow(images[1].numpy().squeeze(), cmap='Greys_r')"
   ]
  },
  {
   "cell_type": "code",
   "execution_count": 37,
   "metadata": {},
   "outputs": [],
   "source": [
    "def sigmoid(x):\n",
    "    return 1/(1+torch.exp(-x))\n",
    "\n",
    "inputs = images.view(images.shape[0],-1)\n",
    "\n",
    "n_hidden = 256\n",
    "n_output = 10\n",
    "\n",
    "W1 = torch.randn(inputs.shape[1], n_hidden)\n",
    "W2 = torch.randn(n_hidden, n_output)\n",
    "\n",
    "B1 = torch.randn(n_hidden)\n",
    "B2 = torch.randn(n_output)"
   ]
  },
  {
   "cell_type": "code",
   "execution_count": 38,
   "metadata": {},
   "outputs": [
    {
     "data": {
      "text/plain": [
       "torch.Size([32, 10])"
      ]
     },
     "execution_count": 38,
     "metadata": {},
     "output_type": "execute_result"
    }
   ],
   "source": [
    "h1 = sigmoid(torch.mm(inputs, W1) + B1)\n",
    "\n",
    "out = torch.mm(h1, W2) + B2\n",
    "\n",
    "out.shape"
   ]
  },
  {
   "cell_type": "code",
   "execution_count": 47,
   "metadata": {},
   "outputs": [
    {
     "name": "stdout",
     "output_type": "stream",
     "text": [
      "torch.Size([32, 10])\n",
      "tensor([1.0000, 1.0000, 1.0000, 1.0000, 1.0000, 1.0000, 1.0000, 1.0000, 1.0000,\n",
      "        1.0000, 1.0000, 1.0000, 1.0000, 1.0000, 1.0000, 1.0000, 1.0000, 1.0000,\n",
      "        1.0000, 1.0000, 1.0000, 1.0000, 1.0000, 1.0000, 1.0000, 1.0000, 1.0000,\n",
      "        1.0000, 1.0000, 1.0000, 1.0000, 1.0000])\n"
     ]
    }
   ],
   "source": [
    "def softmax(x):\n",
    "    return torch.exp(x)/torch.sum(torch.exp(x), dim = 1).view(inputs.shape[0],1)\n",
    "\n",
    "probabilities = softmax(out)\n",
    "\n",
    "print(probabilities.shape)\n",
    "\n",
    "print(probabilities.sum(dim = 1))"
   ]
  },
  {
   "cell_type": "markdown",
   "metadata": {},
   "source": [
    "Using the Pytorch nn module to create a network with 784 input units, a hidden layer with 128 units and a ReLU activation, then a hidden layer with 64 units and a ReLU activation, and finally an output layer with a softmax activation as shown above."
   ]
  },
  {
   "cell_type": "code",
   "execution_count": 48,
   "metadata": {},
   "outputs": [],
   "source": [
    "from torch import nn\n",
    "import torch.nn.functional as F\n",
    "\n",
    "class Network(nn.Module):\n",
    "    def __init__(self):\n",
    "        super().__init__()\n",
    "        \n",
    "        self.hidden1 = nn.Linear(784,128)\n",
    "        self.hidden2 = nn.Linear(128,64)\n",
    "        self.output = nn.Linear(64,10)\n",
    "    \n",
    "    def forward(self,x):\n",
    "        x = F.relu(self.hidden1(x))\n",
    "        x = F.relu(self.hidden2(x))\n",
    "        x = F.softmax(self.output(x), dim=1)\n",
    "        \n",
    "        return x"
   ]
  },
  {
   "cell_type": "code",
   "execution_count": 51,
   "metadata": {},
   "outputs": [
    {
     "data": {
      "text/plain": [
       "Network(\n",
       "  (hidden1): Linear(in_features=784, out_features=128, bias=True)\n",
       "  (hidden2): Linear(in_features=128, out_features=64, bias=True)\n",
       "  (output): Linear(in_features=64, out_features=10, bias=True)\n",
       ")"
      ]
     },
     "execution_count": 51,
     "metadata": {},
     "output_type": "execute_result"
    }
   ],
   "source": [
    "model = Network()\n",
    "model"
   ]
  },
  {
   "cell_type": "markdown",
   "metadata": {},
   "source": [
    "Now the weights and biases are automatically initiallized for us through random sampling from a normal distribution. But we can customize how they are initialized. To access the, we can use:"
   ]
  },
  {
   "cell_type": "code",
   "execution_count": 55,
   "metadata": {},
   "outputs": [
    {
     "name": "stdout",
     "output_type": "stream",
     "text": [
      "torch.Size([128, 784])\n",
      "torch.Size([128])\n"
     ]
    }
   ],
   "source": [
    "print(model.hidden1.weight.shape)\n",
    "print(model.hidden1.bias.shape)"
   ]
  },
  {
   "cell_type": "markdown",
   "metadata": {},
   "source": [
    "Setting biases to zero."
   ]
  },
  {
   "cell_type": "code",
   "execution_count": 60,
   "metadata": {},
   "outputs": [
    {
     "data": {
      "text/plain": [
       "tensor([0., 0., 0., 0., 0., 0., 0., 0., 0., 0., 0., 0., 0., 0., 0., 0., 0., 0., 0., 0., 0., 0., 0., 0.,\n",
       "        0., 0., 0., 0., 0., 0., 0., 0., 0., 0., 0., 0., 0., 0., 0., 0., 0., 0., 0., 0., 0., 0., 0., 0.,\n",
       "        0., 0., 0., 0., 0., 0., 0., 0., 0., 0., 0., 0., 0., 0., 0., 0., 0., 0., 0., 0., 0., 0., 0., 0.,\n",
       "        0., 0., 0., 0., 0., 0., 0., 0., 0., 0., 0., 0., 0., 0., 0., 0., 0., 0., 0., 0., 0., 0., 0., 0.,\n",
       "        0., 0., 0., 0., 0., 0., 0., 0., 0., 0., 0., 0., 0., 0., 0., 0., 0., 0., 0., 0., 0., 0., 0., 0.,\n",
       "        0., 0., 0., 0., 0., 0., 0., 0.])"
      ]
     },
     "execution_count": 60,
     "metadata": {},
     "output_type": "execute_result"
    }
   ],
   "source": [
    "model.hidden1.bias.data.fill_(0.)"
   ]
  },
  {
   "cell_type": "markdown",
   "metadata": {},
   "source": [
    "Setting weights from a normal distribution."
   ]
  },
  {
   "cell_type": "code",
   "execution_count": 57,
   "metadata": {},
   "outputs": [
    {
     "data": {
      "text/plain": [
       "tensor([[ 0.0463,  0.0711, -0.0220,  ...,  0.0634, -0.0601, -0.1328],\n",
       "        [ 0.0379, -0.1220, -0.0541,  ..., -0.0076, -0.0949, -0.0448],\n",
       "        [ 0.0187,  0.0884,  0.0929,  ...,  0.0276, -0.0088,  0.0464],\n",
       "        ...,\n",
       "        [ 0.1660,  0.1694, -0.0568,  ...,  0.0332, -0.0962, -0.0767],\n",
       "        [ 0.0365,  0.0888, -0.1164,  ...,  0.0390,  0.0652,  0.0248],\n",
       "        [-0.0239,  0.1637,  0.1999,  ..., -0.2524,  0.0728, -0.0876]])"
      ]
     },
     "execution_count": 57,
     "metadata": {},
     "output_type": "execute_result"
    }
   ],
   "source": [
    "model.hidden1.weight.data.normal_(mean=0., std=0.1)"
   ]
  },
  {
   "cell_type": "markdown",
   "metadata": {},
   "source": [
    "Forward pass"
   ]
  },
  {
   "cell_type": "code",
   "execution_count": 68,
   "metadata": {},
   "outputs": [
    {
     "data": {
      "text/plain": [
       "torch.Size([1, 784])"
      ]
     },
     "execution_count": 68,
     "metadata": {},
     "output_type": "execute_result"
    }
   ],
   "source": [
    "images[0].view(1,-1).shape"
   ]
  },
  {
   "cell_type": "code",
   "execution_count": 77,
   "metadata": {},
   "outputs": [
    {
     "data": {
      "text/plain": [
       "tensor([[0.0580, 0.1028, 0.1913, 0.0470, 0.0583, 0.0474, 0.0780, 0.0951, 0.1498,\n",
       "         0.1723]], grad_fn=<SoftmaxBackward>)"
      ]
     },
     "execution_count": 77,
     "metadata": {},
     "output_type": "execute_result"
    }
   ],
   "source": [
    "prob = model.forward(images[0].view(1,-1))\n",
    "prob"
   ]
  },
  {
   "cell_type": "markdown",
   "metadata": {},
   "source": [
    "Using nn.Sequential"
   ]
  },
  {
   "cell_type": "code",
   "execution_count": 88,
   "metadata": {},
   "outputs": [
    {
     "name": "stdout",
     "output_type": "stream",
     "text": [
      "Sequential(\n",
      "  (0): Linear(in_features=784, out_features=256, bias=True)\n",
      "  (1): ReLU()\n",
      "  (2): Linear(in_features=256, out_features=64, bias=True)\n",
      "  (3): ReLU()\n",
      "  (4): Linear(in_features=64, out_features=10, bias=True)\n",
      "  (5): Softmax()\n",
      ")\n"
     ]
    },
    {
     "data": {
      "text/plain": [
       "tensor([[0.0970, 0.1209, 0.1022, 0.0958, 0.0959, 0.0977, 0.1005, 0.0912, 0.0979,\n",
       "         0.1010]], grad_fn=<SoftmaxBackward>)"
      ]
     },
     "execution_count": 88,
     "metadata": {},
     "output_type": "execute_result"
    }
   ],
   "source": [
    "input_size = 784\n",
    "hidden_sizes = [256,64]\n",
    "output_size = 10\n",
    "\n",
    "model = nn.Sequential(nn.Linear(input_size,hidden_sizes[0]),\n",
    "                      nn.ReLU(),\n",
    "                      nn.Linear(hidden_sizes[0], hidden_sizes[1]),\n",
    "                      nn.ReLU(),\n",
    "                      nn.Linear(hidden_sizes[1], output_size),\n",
    "                      nn.Softmax(dim=1))\n",
    "print(model)\n",
    "\n",
    "model.forward(images[0].view(1,-1))"
   ]
  },
  {
   "cell_type": "code",
   "execution_count": 89,
   "metadata": {},
   "outputs": [
    {
     "data": {
      "text/plain": [
       "tensor([-0.0327, -0.0133,  0.0229,  0.0318, -0.0150, -0.0180, -0.0088, -0.0064,\n",
       "        -0.0348, -0.0272, -0.0195, -0.0287, -0.0098,  0.0225, -0.0346,  0.0147,\n",
       "        -0.0180,  0.0289,  0.0007, -0.0017,  0.0304, -0.0226, -0.0154, -0.0148,\n",
       "        -0.0083,  0.0308, -0.0109,  0.0074, -0.0095, -0.0213,  0.0181,  0.0281,\n",
       "         0.0225, -0.0031, -0.0046,  0.0253,  0.0271, -0.0240, -0.0125,  0.0265,\n",
       "         0.0092, -0.0289,  0.0157,  0.0142,  0.0142,  0.0172,  0.0275, -0.0300,\n",
       "         0.0199, -0.0274,  0.0032,  0.0150, -0.0037, -0.0257, -0.0090, -0.0285,\n",
       "        -0.0226,  0.0108,  0.0088, -0.0249, -0.0186,  0.0351,  0.0075,  0.0235,\n",
       "        -0.0324,  0.0056,  0.0253, -0.0143, -0.0221, -0.0236, -0.0265,  0.0025,\n",
       "         0.0343,  0.0265,  0.0327,  0.0210, -0.0062, -0.0307, -0.0078, -0.0018,\n",
       "        -0.0024, -0.0146,  0.0335, -0.0005,  0.0062,  0.0261, -0.0099,  0.0055,\n",
       "        -0.0163, -0.0089,  0.0074,  0.0214, -0.0206, -0.0206, -0.0028, -0.0206,\n",
       "        -0.0277,  0.0041, -0.0097,  0.0289,  0.0030, -0.0265,  0.0040, -0.0307,\n",
       "        -0.0120,  0.0116,  0.0346, -0.0104,  0.0021,  0.0217,  0.0053,  0.0214,\n",
       "        -0.0275, -0.0128, -0.0156,  0.0346,  0.0079,  0.0111, -0.0281,  0.0184,\n",
       "         0.0123, -0.0349, -0.0329, -0.0335,  0.0229,  0.0286,  0.0247, -0.0242,\n",
       "         0.0163, -0.0187, -0.0057,  0.0294,  0.0097, -0.0259, -0.0313, -0.0329,\n",
       "        -0.0357, -0.0047,  0.0189, -0.0039, -0.0353, -0.0085,  0.0234, -0.0239,\n",
       "         0.0090, -0.0095, -0.0296,  0.0338,  0.0097, -0.0086, -0.0181,  0.0346,\n",
       "         0.0043, -0.0276, -0.0217,  0.0028, -0.0113, -0.0026, -0.0216,  0.0203,\n",
       "         0.0137, -0.0230,  0.0028,  0.0344,  0.0200, -0.0307, -0.0045, -0.0081,\n",
       "         0.0115,  0.0279, -0.0164,  0.0193,  0.0258,  0.0021, -0.0325,  0.0187,\n",
       "        -0.0260, -0.0236,  0.0057, -0.0354, -0.0250, -0.0342, -0.0059,  0.0180,\n",
       "        -0.0100, -0.0104,  0.0306, -0.0135,  0.0016, -0.0221, -0.0078,  0.0069,\n",
       "         0.0105, -0.0225, -0.0302, -0.0352, -0.0341, -0.0179,  0.0222,  0.0176,\n",
       "         0.0105,  0.0023, -0.0005,  0.0332,  0.0014,  0.0179,  0.0099,  0.0125,\n",
       "        -0.0068,  0.0061,  0.0094,  0.0293,  0.0321, -0.0057, -0.0301,  0.0164,\n",
       "         0.0343,  0.0278, -0.0160,  0.0293,  0.0343, -0.0005,  0.0240, -0.0199,\n",
       "        -0.0089, -0.0138,  0.0069, -0.0323, -0.0209,  0.0041, -0.0024, -0.0249,\n",
       "        -0.0286, -0.0311,  0.0227,  0.0028, -0.0332,  0.0030, -0.0157,  0.0251,\n",
       "         0.0157, -0.0339,  0.0127,  0.0355,  0.0218,  0.0065, -0.0255, -0.0203,\n",
       "        -0.0011,  0.0016,  0.0240, -0.0297, -0.0048, -0.0086, -0.0190, -0.0029])"
      ]
     },
     "execution_count": 89,
     "metadata": {},
     "output_type": "execute_result"
    }
   ],
   "source": [
    "model[0].bias.data"
   ]
  },
  {
   "cell_type": "markdown",
   "metadata": {},
   "source": [
    "We can also name the layers in nn.Sequential using OrderedDicts"
   ]
  },
  {
   "cell_type": "code",
   "execution_count": 90,
   "metadata": {},
   "outputs": [
    {
     "data": {
      "text/plain": [
       "Sequential(\n",
       "  (fc1): Linear(in_features=784, out_features=256, bias=True)\n",
       "  (relu1): ReLU()\n",
       "  (fc2): Linear(in_features=256, out_features=64, bias=True)\n",
       "  (relu2): ReLU()\n",
       "  (output): Linear(in_features=64, out_features=10, bias=True)\n",
       "  (softmax): Softmax()\n",
       ")"
      ]
     },
     "execution_count": 90,
     "metadata": {},
     "output_type": "execute_result"
    }
   ],
   "source": [
    "from collections import OrderedDict\n",
    "\n",
    "model = nn.Sequential(OrderedDict([\n",
    "                      ('fc1', nn.Linear(input_size, hidden_sizes[0])),\n",
    "                      ('relu1', nn.ReLU()),\n",
    "                      ('fc2', nn.Linear(hidden_sizes[0], hidden_sizes[1])),\n",
    "                      ('relu2', nn.ReLU()),\n",
    "                      ('output', nn.Linear(hidden_sizes[1], output_size)),\n",
    "                      ('softmax', nn.Softmax(dim=1))]))\n",
    "model"
   ]
  },
  {
   "cell_type": "code",
   "execution_count": 92,
   "metadata": {},
   "outputs": [
    {
     "name": "stdout",
     "output_type": "stream",
     "text": [
      "Linear(in_features=784, out_features=256, bias=True) Linear(in_features=784, out_features=256, bias=True)\n"
     ]
    }
   ],
   "source": [
    "print(model[0], model.fc1)"
   ]
  }
 ],
 "metadata": {
  "kernelspec": {
   "display_name": "Python (fastai-3.7)",
   "language": "python",
   "name": "fastai-3.7"
  },
  "language_info": {
   "codemirror_mode": {
    "name": "ipython",
    "version": 3
   },
   "file_extension": ".py",
   "mimetype": "text/x-python",
   "name": "python",
   "nbconvert_exporter": "python",
   "pygments_lexer": "ipython3",
   "version": "3.7.1"
  }
 },
 "nbformat": 4,
 "nbformat_minor": 2
}
