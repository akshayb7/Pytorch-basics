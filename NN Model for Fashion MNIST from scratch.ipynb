{
 "cells": [
  {
   "cell_type": "code",
   "execution_count": 1,
   "metadata": {},
   "outputs": [],
   "source": [
    "# Import Libraries\n",
    "import torch\n",
    "from torch import nn, optim\n",
    "from torchvision import datasets, transforms\n",
    "import matplotlib.pyplot as plt"
   ]
  },
  {
   "cell_type": "code",
   "execution_count": 2,
   "metadata": {},
   "outputs": [],
   "source": [
    "# Import data\n",
    "\n",
    "transform = transforms.Compose([transforms.ToTensor(),\n",
    "                               transforms.Normalize((0.5,0.5,0.5),(0.5,0.5,0.5))])\n",
    "\n",
    "trainset = datasets.FashionMNIST('~/.pytorch/F_MNIST_data/', download=True, train=True, transform=transform)\n",
    "trainloader = torch.utils.data.DataLoader(trainset, batch_size=64, shuffle = True)\n",
    "\n",
    "testset = datasets.FashionMNIST('~/.pytorch/F_MNIST_data/', download=True, train=False, transform=transform)\n",
    "testloader = torch.utils.data.DataLoader(testset, batch_size=64, shuffle = True)"
   ]
  },
  {
   "cell_type": "code",
   "execution_count": 3,
   "metadata": {},
   "outputs": [
    {
     "name": "stdout",
     "output_type": "stream",
     "text": [
      "tensor(2)\n"
     ]
    },
    {
     "data": {
      "text/plain": [
       "<matplotlib.image.AxesImage at 0x1ae611fbf28>"
      ]
     },
     "execution_count": 3,
     "metadata": {},
     "output_type": "execute_result"
    },
    {
     "data": {
      "image/png": "[encoded data removed]",
      "text/plain": [
       "<Figure size 432x288 with 1 Axes>"
      ]
     },
     "metadata": {
      "needs_background": "light"
     },
     "output_type": "display_data"
    }
   ],
   "source": [
    "# Look at the data\n",
    "\n",
    "images, labels = next(iter(trainloader))\n",
    "\n",
    "print(labels[0])\n",
    "plt.imshow(images[0].view(28,28), cmap = 'Greys_r')"
   ]
  },
  {
   "cell_type": "code",
   "execution_count": 4,
   "metadata": {},
   "outputs": [
    {
     "data": {
      "text/plain": [
       "Sequential(\n",
       "  (0): Linear(in_features=784, out_features=128, bias=True)\n",
       "  (1): ReLU()\n",
       "  (2): Linear(in_features=128, out_features=64, bias=True)\n",
       "  (3): ReLU()\n",
       "  (4): Linear(in_features=64, out_features=10, bias=True)\n",
       "  (5): LogSoftmax()\n",
       ")"
      ]
     },
     "execution_count": 4,
     "metadata": {},
     "output_type": "execute_result"
    }
   ],
   "source": [
    "# Define a NN architecture\n",
    "n_hidden = [128,64]\n",
    "n_output = 10\n",
    "\n",
    "model = nn.Sequential(nn.Linear(784, n_hidden[0]),\n",
    "                     nn.ReLU(),\n",
    "                     nn.Linear(n_hidden[0],n_hidden[1]),\n",
    "                     nn.ReLU(),\n",
    "                     nn.Linear(n_hidden[1],n_output),\n",
    "                     nn.LogSoftmax(dim=1))\n",
    "\n",
    "model"
   ]
  },
  {
   "cell_type": "code",
   "execution_count": 5,
   "metadata": {},
   "outputs": [],
   "source": [
    "# Define the loss function and optimizer\n",
    "criterion = nn.NLLLoss()\n",
    "optimizer = optim.Adam(model.parameters(), lr=0.01)"
   ]
  },
  {
   "cell_type": "code",
   "execution_count": 6,
   "metadata": {},
   "outputs": [],
   "source": [
    "images, labels = next(iter(testloader))\n",
    "\n",
    "prob = torch.exp(model(images.view(images.shape[0],-1)))"
   ]
  },
  {
   "cell_type": "code",
   "execution_count": 7,
   "metadata": {},
   "outputs": [
    {
     "name": "stdout",
     "output_type": "stream",
     "text": [
      "Epoch: 1/20, train_loss: 0.5485377311706543, test_loss: 0.5142748951911926, acc: 52.044586181640625\n",
      "Epoch: 2/20, train_loss: 0.44570496678352356, test_loss: 0.47719520330429077, acc: 52.649681091308594\n",
      "Epoch: 3/20, train_loss: 0.4220578968524933, test_loss: 0.4454456865787506, acc: 53.624202728271484\n",
      "Epoch: 4/20, train_loss: 0.40299850702285767, test_loss: 0.4518188238143921, acc: 53.45222854614258\n",
      "Epoch: 5/20, train_loss: 0.3913276493549347, test_loss: 0.4416811466217041, acc: 53.87261199951172\n",
      "Epoch: 6/20, train_loss: 0.387033075094223, test_loss: 0.48637303709983826, acc: 52.993629455566406\n",
      "Epoch: 7/20, train_loss: 0.38190048933029175, test_loss: 0.43034425377845764, acc: 54.14012908935547\n",
      "Epoch: 8/20, train_loss: 0.3729577660560608, test_loss: 0.4589309096336365, acc: 54.15286636352539\n",
      "Epoch: 9/20, train_loss: 0.3710304796695709, test_loss: 0.4534868896007538, acc: 53.560508728027344\n",
      "Epoch: 10/20, train_loss: 0.3735896050930023, test_loss: 0.4283982813358307, acc: 54.02547836303711\n",
      "Epoch: 11/20, train_loss: 0.362639456987381, test_loss: 0.4273093640804291, acc: 54.40764236450195\n",
      "Epoch: 12/20, train_loss: 0.35658857226371765, test_loss: 0.47901105880737305, acc: 53.59235763549805\n",
      "Epoch: 13/20, train_loss: 0.35194137692451477, test_loss: 0.43699291348457336, acc: 54.464969635009766\n",
      "Epoch: 14/20, train_loss: 0.3602059483528137, test_loss: 0.4603090286254883, acc: 53.75796127319336\n",
      "Epoch: 15/20, train_loss: 0.35236018896102905, test_loss: 0.41325369477272034, acc: 54.63694381713867\n",
      "Epoch: 16/20, train_loss: 0.34499356150627136, test_loss: 0.4443012475967407, acc: 54.29299545288086\n",
      "Epoch: 17/20, train_loss: 0.34656110405921936, test_loss: 0.4497942626476288, acc: 54.261146545410156\n",
      "Epoch: 18/20, train_loss: 0.341098815202713, test_loss: 0.44231316447257996, acc: 54.36305618286133\n",
      "Epoch: 19/20, train_loss: 0.3367939889431, test_loss: 0.4624885618686676, acc: 53.66242218017578\n",
      "Epoch: 20/20, train_loss: 0.3394292891025543, test_loss: 0.4861043393611908, acc: 53.713375091552734\n"
     ]
    }
   ],
   "source": [
    "# Set up training loop and validation loops\n",
    "\n",
    "epochs = 20\n",
    "\n",
    "for e in range(epochs):\n",
    "    running_loss = 0\n",
    "    for images, labels in trainloader:\n",
    "        \n",
    "        images = images.view(images.shape[0], -1)\n",
    "        \n",
    "        optimizer.zero_grad()\n",
    "        output = model(images)\n",
    "        loss = criterion(output, labels)\n",
    "        loss.backward()\n",
    "        running_loss += loss\n",
    "        optimizer.step()\n",
    "    else:\n",
    "        \n",
    "        test_loss = 0\n",
    "        correct = 0\n",
    "        with torch.no_grad():\n",
    "            \n",
    "            for images, labels in testloader:\n",
    "                \n",
    "                images = images.view(images.shape[0],-1)\n",
    "                prob = torch.exp(model(images))\n",
    "                top_p, top_class = prob.topk(1, dim=1)\n",
    "                equals = top_class == labels.view(*top_class.shape)\n",
    "                correct += torch.sum(equals.type(torch.FloatTensor))\n",
    "                test_loss += criterion(model(images), labels)\n",
    "        \n",
    "    print(f'Epoch: {e+1}/{epochs}, train_loss: {running_loss/len(trainloader)}, test_loss: {test_loss/len(testloader)}, acc: {correct/len(testloader) }')    "
   ]
  },
  {
   "cell_type": "code",
   "execution_count": 9,
   "metadata": {},
   "outputs": [
    {
     "name": "stdout",
     "output_type": "stream",
     "text": [
      "tensor(4)\n",
      "tensor(4)\n"
     ]
    }
   ],
   "source": [
    "# Test the network with test set\n",
    "dataiter = iter(testloader)\n",
    "images, labels = dataiter.next()\n",
    "img = images[0]\n",
    "\n",
    "img = img.resize_(1, 784)\n",
    "\n",
    "ps = torch.exp(model(img))\n",
    "\n",
    "print(ps.argmax())\n",
    "print(labels[0])"
   ]
  },
  {
   "cell_type": "code",
   "execution_count": null,
   "metadata": {},
   "outputs": [],
   "source": []
  }
 ],
 "metadata": {
  "kernelspec": {
   "display_name": "Python (fastai-3.7)",
   "language": "python",
   "name": "fastai-3.7"
  },
  "language_info": {
   "codemirror_mode": {
    "name": "ipython",
    "version": 3
   },
   "file_extension": ".py",
   "mimetype": "text/x-python",
   "name": "python",
   "nbconvert_exporter": "python",
   "pygments_lexer": "ipython3",
   "version": "3.7.1"
  }
 },
 "nbformat": 4,
 "nbformat_minor": 2
}
