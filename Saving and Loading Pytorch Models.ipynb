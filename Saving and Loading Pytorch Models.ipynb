{
 "cells": [
  {
   "cell_type": "code",
   "execution_count": 1,
   "metadata": {},
   "outputs": [],
   "source": [
    "import matplotlib.pyplot as plt\n",
    "import torch\n",
    "from torch import nn,optim\n",
    "import torch.nn.functional as F\n",
    "from torchvision import datasets, transforms"
   ]
  },
  {
   "cell_type": "code",
   "execution_count": 2,
   "metadata": {},
   "outputs": [],
   "source": [
    "transform = transforms.Compose([transforms.ToTensor(),\n",
    "                               transforms.Normalize((0.5,0.5,0.5),(0.5,0.5,0.5))])\n",
    "\n",
    "trainset = datasets.FashionMNIST('~/.pytorch/F_MNIST_data/', download=True, train=True, transform=transform)\n",
    "trainloader = torch.utils.data.DataLoader(trainset, batch_size=64, shuffle=True)\n",
    "\n",
    "testset = datasets.FashionMNIST('~/.pytorch/F_MNIST_data/', download=True, train=False, transform=transform)\n",
    "testloader = torch.utils.data.DataLoader(testset, batch_size=64, shuffle=True)"
   ]
  },
  {
   "cell_type": "code",
   "execution_count": 6,
   "metadata": {},
   "outputs": [],
   "source": [
    "class Network(nn.Module):\n",
    "    def __init__(self, input_size, output_size, hidden_sizes, p=0.5):\n",
    "        super().__init__()\n",
    "        self.hidden = nn.ModuleList([nn.Linear(input_size, hidden_sizes[0])])\n",
    "        \n",
    "        hidden_layers = zip(hidden_sizes[:-1], hidden_sizes[1:])\n",
    "        self.hidden.extend(nn.Linear(h1, h2) for h1,h2 in hidden_layers)\n",
    "        \n",
    "        self.output = nn.Linear(hidden_sizes[-1], output_size)\n",
    "        \n",
    "        self.dropout = nn.Dropout(p=p)\n",
    "        \n",
    "    def forward(self, x):\n",
    "        x = x.view(x.shape[0],-1)\n",
    "        for each in self.hidden:\n",
    "            x = self.dropout(F.relu(each(x)))\n",
    "        \n",
    "        x = self.output(x)\n",
    "        x = F.log_softmax(x, dim=1)\n",
    "        return x"
   ]
  },
  {
   "cell_type": "code",
   "execution_count": 7,
   "metadata": {},
   "outputs": [],
   "source": [
    "model = Network(784, 10, [256,128,64])\n",
    "criterion = nn.NLLLoss()\n",
    "optimizer = optim.Adam(model.parameters(), lr=0.003)"
   ]
  },
  {
   "cell_type": "code",
   "execution_count": 8,
   "metadata": {},
   "outputs": [
    {
     "name": "stdout",
     "output_type": "stream",
     "text": [
      "Epoch: 1/25, Train_loss: 0.8543415665626526, Test_loss: 0.5640466213226318, Accuracy: 79.49840545654297\n",
      "Epoch: 2/25, Train_loss: 0.6849862933158875, Test_loss: 0.5042765140533447, Accuracy: 82.1158447265625\n",
      "Epoch: 3/25, Train_loss: 0.6574461460113525, Test_loss: 0.5122542977333069, Accuracy: 81.8869400024414\n",
      "Epoch: 4/25, Train_loss: 0.6459218859672546, Test_loss: 0.47910070419311523, Accuracy: 82.52388763427734\n",
      "Epoch: 5/25, Train_loss: 0.6398714780807495, Test_loss: 0.4938146471977234, Accuracy: 82.60350036621094\n",
      "Epoch: 6/25, Train_loss: 0.6210704445838928, Test_loss: 0.4684646427631378, Accuracy: 84.13614654541016\n",
      "Epoch: 7/25, Train_loss: 0.6311630606651306, Test_loss: 0.4866037964820862, Accuracy: 83.3996810913086\n",
      "Epoch: 8/25, Train_loss: 0.6317572593688965, Test_loss: 0.4733387231826782, Accuracy: 83.29020690917969\n",
      "Epoch: 9/25, Train_loss: 0.6231968998908997, Test_loss: 0.4892164468765259, Accuracy: 82.71297454833984\n",
      "Epoch: 10/25, Train_loss: 0.6168392896652222, Test_loss: 0.4708630442619324, Accuracy: 83.79776763916016\n",
      "Epoch: 11/25, Train_loss: 0.6065919995307922, Test_loss: 0.4543227255344391, Accuracy: 83.8475341796875\n",
      "Epoch: 12/25, Train_loss: 0.6014946103096008, Test_loss: 0.5085827112197876, Accuracy: 82.24522399902344\n",
      "Epoch: 13/25, Train_loss: 0.6132093667984009, Test_loss: 0.45299428701400757, Accuracy: 83.79776763916016\n",
      "Epoch: 14/25, Train_loss: 0.6090254187583923, Test_loss: 0.47635141015052795, Accuracy: 83.76791381835938\n",
      "Epoch: 15/25, Train_loss: 0.6063613891601562, Test_loss: 0.47713854908943176, Accuracy: 83.7380599975586\n",
      "Epoch: 16/25, Train_loss: 0.6079616546630859, Test_loss: 0.4696776866912842, Accuracy: 83.52906036376953\n",
      "Epoch: 17/25, Train_loss: 0.6062551736831665, Test_loss: 0.46685436367988586, Accuracy: 84.1261978149414\n",
      "Epoch: 18/25, Train_loss: 0.6150223016738892, Test_loss: 0.46069762110710144, Accuracy: 83.76791381835938\n",
      "Epoch: 19/25, Train_loss: 0.6032138466835022, Test_loss: 0.4708705246448517, Accuracy: 83.96695709228516\n",
      "Epoch: 20/25, Train_loss: 0.6193380951881409, Test_loss: 0.46617960929870605, Accuracy: 84.18590545654297\n",
      "Epoch: 21/25, Train_loss: 0.6030334830284119, Test_loss: 0.4640968441963196, Accuracy: 83.79776763916016\n",
      "Epoch: 22/25, Train_loss: 0.5897217392921448, Test_loss: 0.4743068814277649, Accuracy: 83.5091552734375\n",
      "Epoch: 23/25, Train_loss: 0.5906965732574463, Test_loss: 0.45513808727264404, Accuracy: 84.3152847290039\n",
      "Epoch: 24/25, Train_loss: 0.6038826704025269, Test_loss: 0.5057291388511658, Accuracy: 83.08120727539062\n",
      "Epoch: 25/25, Train_loss: 0.5959593057632446, Test_loss: 0.44278132915496826, Accuracy: 84.27547454833984\n"
     ]
    }
   ],
   "source": [
    "epochs = 25\n",
    "\n",
    "train_losses, test_losses = [],[]\n",
    "\n",
    "for e in range(epochs):\n",
    "    running_loss = 0\n",
    "    for images, labels in trainloader:\n",
    "        log_ps = model(images)\n",
    "        optimizer.zero_grad()\n",
    "        loss = criterion(log_ps, labels)\n",
    "        loss.backward()\n",
    "        optimizer.step()\n",
    "        running_loss += loss\n",
    "    else:\n",
    "        test_loss = 0\n",
    "        accuracy = 0\n",
    "        with torch.no_grad():\n",
    "            model.eval()\n",
    "            for images, labels in testloader:\n",
    "                log_ps = model(images)\n",
    "                ps = torch.exp(log_ps)\n",
    "                top_p, top_class = ps.topk(1, dim=1)\n",
    "                equals = top_class == labels.view(*top_class.shape)\n",
    "                accuracy += torch.mean(equals.type(torch.FloatTensor))\n",
    "                test_loss += criterion(log_ps, labels)\n",
    "        model.train()\n",
    "    train_losses.append(running_loss/len(trainloader))\n",
    "    test_losses.append(test_loss/len(testloader))\n",
    "        \n",
    "    print('Epoch: {}/{}, Train_loss: {}, Test_loss: {}, Accuracy: {}'.format(e+1,epochs,\n",
    "                                                                            running_loss/len(trainloader),\n",
    "                                                                            test_loss/len(testloader),\n",
    "                                                                            accuracy*100/len(testloader)))        "
   ]
  },
  {
   "cell_type": "markdown",
   "metadata": {},
   "source": [
    "Saving model"
   ]
  },
  {
   "cell_type": "code",
   "execution_count": 11,
   "metadata": {},
   "outputs": [],
   "source": [
    "checkpoint = {'input_size': 784,\n",
    "             'output_size': 10,\n",
    "             'hidden_sizes': [each.out_features for each in model.hidden],\n",
    "             'state_dict': model.state_dict()}\n",
    "\n",
    "torch.save(checkpoint, 'checkpoint.pth')"
   ]
  },
  {
   "cell_type": "markdown",
   "metadata": {},
   "source": [
    "Loading back a model"
   ]
  },
  {
   "cell_type": "code",
   "execution_count": 12,
   "metadata": {},
   "outputs": [],
   "source": [
    "def load_model(path):\n",
    "    check = torch.load(path)\n",
    "    model = Network(check['input_size'], check['output_size'], check['hidden_sizes'])\n",
    "    model.load_state_dict(check['state_dict']) \n",
    "    return model"
   ]
  },
  {
   "cell_type": "code",
   "execution_count": 13,
   "metadata": {},
   "outputs": [
    {
     "name": "stdout",
     "output_type": "stream",
     "text": [
      "Network(\n",
      "  (hidden): ModuleList(\n",
      "    (0): Linear(in_features=784, out_features=256, bias=True)\n",
      "    (1): Linear(in_features=256, out_features=128, bias=True)\n",
      "    (2): Linear(in_features=128, out_features=64, bias=True)\n",
      "  )\n",
      "  (output): Linear(in_features=64, out_features=10, bias=True)\n",
      "  (dropout): Dropout(p=0.5)\n",
      ")\n",
      "Network(\n",
      "  (hidden): ModuleList(\n",
      "    (0): Linear(in_features=784, out_features=256, bias=True)\n",
      "    (1): Linear(in_features=256, out_features=128, bias=True)\n",
      "    (2): Linear(in_features=128, out_features=64, bias=True)\n",
      "  )\n",
      "  (output): Linear(in_features=64, out_features=10, bias=True)\n",
      "  (dropout): Dropout(p=0.5)\n",
      ")\n"
     ]
    }
   ],
   "source": [
    "print(model)\n",
    "loaded_model = load_model('checkpoint.pth')\n",
    "print(loaded_model)"
   ]
  },
  {
   "cell_type": "code",
   "execution_count": null,
   "metadata": {},
   "outputs": [],
   "source": []
  }
 ],
 "metadata": {
  "kernelspec": {
   "display_name": "Python (fastai-3.7)",
   "language": "python",
   "name": "fastai-3.7"
  },
  "language_info": {
   "codemirror_mode": {
    "name": "ipython",
    "version": 3
   },
   "file_extension": ".py",
   "mimetype": "text/x-python",
   "name": "python",
   "nbconvert_exporter": "python",
   "pygments_lexer": "ipython3",
   "version": "3.7.1"
  }
 },
 "nbformat": 4,
 "nbformat_minor": 2
}
