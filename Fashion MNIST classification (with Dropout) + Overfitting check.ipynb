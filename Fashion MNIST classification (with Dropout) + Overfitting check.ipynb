{
 "cells": [
  {
   "cell_type": "code",
   "execution_count": 1,
   "metadata": {},
   "outputs": [],
   "source": [
    "import torch\n",
    "from torch import nn, optim\n",
    "from torchvision import datasets, transforms\n",
    "import torch.nn.functional as F\n",
    "import matplotlib.pyplot as plt"
   ]
  },
  {
   "cell_type": "code",
   "execution_count": 2,
   "metadata": {},
   "outputs": [],
   "source": [
    "transform = transforms.Compose([transforms.ToTensor(),\n",
    "                               transforms.Normalize((0.5,0.5,0.5),(0.5,0.5,0.5))])\n",
    "\n",
    "trainset = datasets.FashionMNIST('~/.pytorch/F_MNIST_data/', download=True, train=True, transform=transform)\n",
    "trainloader = torch.utils.data.DataLoader(trainset, batch_size=64, shuffle=True)\n",
    "\n",
    "testset = datasets.FashionMNIST('~/.pytorch/F_MNIST_data/', download=True, train=False, transform=transform)\n",
    "testloader = torch.utils.data.DataLoader(testset, batch_size=64, shuffle=True)"
   ]
  },
  {
   "cell_type": "code",
   "execution_count": 3,
   "metadata": {},
   "outputs": [],
   "source": [
    "class Classifier(nn.Module):\n",
    "    def __init__(self):\n",
    "        super().__init__()\n",
    "        self.h1 = nn.Linear(784,256)\n",
    "        self.h2 = nn.Linear(256,128)\n",
    "        self.h3 = nn.Linear(128,64)\n",
    "        self.out = nn.Linear(64,10)\n",
    "        self.dropout = nn.Dropout(p=0.2)\n",
    "        \n",
    "    def forward(self, x):\n",
    "        x = x.view(x.shape[0],-1)\n",
    "        x = self.dropout(F.relu(self.h1(x)))\n",
    "        x = self.dropout(F.relu(self.h2(x)))\n",
    "        x = self.dropout(F.relu(self.h3(x)))\n",
    "        x = F.log_softmax(self.out(x), dim=1)\n",
    "        return x"
   ]
  },
  {
   "cell_type": "code",
   "execution_count": 4,
   "metadata": {},
   "outputs": [],
   "source": [
    "model = Classifier()\n",
    "criterion = nn.NLLLoss()\n",
    "optimizer = optim.Adagrad(model.parameters(), lr=0.003)"
   ]
  },
  {
   "cell_type": "code",
   "execution_count": 5,
   "metadata": {},
   "outputs": [
    {
     "name": "stdout",
     "output_type": "stream",
     "text": [
      "Epoch: 1/25, Train_loss: 0.6613134741783142, Test_loss: 0.5069131255149841, Accuracy: 81.18033599853516\n",
      "Epoch: 2/25, Train_loss: 0.5089235901832581, Test_loss: 0.4616154432296753, Accuracy: 82.8125\n",
      "Epoch: 3/25, Train_loss: 0.4689335823059082, Test_loss: 0.4359976351261139, Accuracy: 84.13614654541016\n",
      "Epoch: 4/25, Train_loss: 0.4450939893722534, Test_loss: 0.42454367876052856, Accuracy: 84.46456909179688\n",
      "Epoch: 5/25, Train_loss: 0.42748525738716125, Test_loss: 0.4126768112182617, Accuracy: 85.10150909423828\n",
      "Epoch: 6/25, Train_loss: 0.41317370533943176, Test_loss: 0.40323197841644287, Accuracy: 85.32046508789062\n",
      "Epoch: 7/25, Train_loss: 0.4040673077106476, Test_loss: 0.39584967494010925, Accuracy: 85.66879272460938\n",
      "Epoch: 8/25, Train_loss: 0.39343202114105225, Test_loss: 0.39051443338394165, Accuracy: 85.6588363647461\n",
      "Epoch: 9/25, Train_loss: 0.38570284843444824, Test_loss: 0.38448530435562134, Accuracy: 85.98725891113281\n",
      "Epoch: 10/25, Train_loss: 0.37980473041534424, Test_loss: 0.3828294575214386, Accuracy: 86.11663818359375\n",
      "Epoch: 11/25, Train_loss: 0.37502527236938477, Test_loss: 0.37899667024612427, Accuracy: 86.09673309326172\n",
      "Epoch: 12/25, Train_loss: 0.3678532838821411, Test_loss: 0.3725849688053131, Accuracy: 86.56449127197266\n",
      "Epoch: 13/25, Train_loss: 0.3630416989326477, Test_loss: 0.3703386187553406, Accuracy: 86.55453491210938\n",
      "Epoch: 14/25, Train_loss: 0.3579227030277252, Test_loss: 0.3698332607746124, Accuracy: 86.62420654296875\n",
      "Epoch: 15/25, Train_loss: 0.35534921288490295, Test_loss: 0.3654610216617584, Accuracy: 86.79338836669922\n",
      "Epoch: 16/25, Train_loss: 0.3515276610851288, Test_loss: 0.3635711371898651, Accuracy: 86.88296508789062\n",
      "Epoch: 17/25, Train_loss: 0.3473367691040039, Test_loss: 0.3606793284416199, Accuracy: 87.0820083618164\n",
      "Epoch: 18/25, Train_loss: 0.3441477119922638, Test_loss: 0.36052167415618896, Accuracy: 87.11186218261719\n",
      "Epoch: 19/25, Train_loss: 0.34212008118629456, Test_loss: 0.35829025506973267, Accuracy: 87.14171600341797\n",
      "Epoch: 20/25, Train_loss: 0.3353899121284485, Test_loss: 0.3554888367652893, Accuracy: 87.28105163574219\n",
      "Epoch: 21/25, Train_loss: 0.33305272459983826, Test_loss: 0.3556916117668152, Accuracy: 87.330810546875\n",
      "Epoch: 22/25, Train_loss: 0.3324069380760193, Test_loss: 0.3507816195487976, Accuracy: 87.4402847290039\n",
      "Epoch: 23/25, Train_loss: 0.3287847340106964, Test_loss: 0.3515394330024719, Accuracy: 87.48009490966797\n",
      "Epoch: 24/25, Train_loss: 0.3277888298034668, Test_loss: 0.34822145104408264, Accuracy: 87.71894836425781\n",
      "Epoch: 25/25, Train_loss: 0.32448670268058777, Test_loss: 0.35053008794784546, Accuracy: 87.669189453125\n"
     ]
    }
   ],
   "source": [
    "epochs = 25\n",
    "\n",
    "train_losses, test_losses = [],[]\n",
    "\n",
    "for e in range(epochs):\n",
    "    running_loss = 0\n",
    "    for images, labels in trainloader:\n",
    "        log_ps = model(images)\n",
    "        optimizer.zero_grad()\n",
    "        loss = criterion(log_ps, labels)\n",
    "        loss.backward()\n",
    "        optimizer.step()\n",
    "        running_loss += loss\n",
    "    else:\n",
    "        test_loss = 0\n",
    "        accuracy = 0\n",
    "        with torch.no_grad():\n",
    "            model.eval()\n",
    "            for images, labels in testloader:\n",
    "                log_ps = model(images)\n",
    "                ps = torch.exp(log_ps)\n",
    "                top_p, top_class = ps.topk(1, dim=1)\n",
    "                equals = top_class == labels.view(*top_class.shape)\n",
    "                accuracy += torch.mean(equals.type(torch.FloatTensor))\n",
    "                test_loss += criterion(log_ps, labels)\n",
    "        model.train()\n",
    "    train_losses.append(running_loss/len(trainloader))\n",
    "    test_losses.append(test_loss/len(testloader))\n",
    "        \n",
    "    print('Epoch: {}/{}, Train_loss: {}, Test_loss: {}, Accuracy: {}'.format(e+1,epochs,\n",
    "                                                                            running_loss/len(trainloader),\n",
    "                                                                            test_loss/len(testloader),\n",
    "                                                                            accuracy*100/len(testloader)))        "
   ]
  },
  {
   "cell_type": "code",
   "execution_count": 6,
   "metadata": {},
   "outputs": [
    {
     "data": {
      "text/plain": [
       "<matplotlib.legend.Legend at 0x16801ea76a0>"
      ]
     },
     "execution_count": 6,
     "metadata": {},
     "output_type": "execute_result"
    },
    {
     "data": {
      "image/png": "[encoded data removed]",
      "text/plain": [
       "<Figure size 432x288 with 1 Axes>"
      ]
     },
     "metadata": {
      "needs_background": "light"
     },
     "output_type": "display_data"
    }
   ],
   "source": [
    "plt.plot(train_losses, label='Training loss')\n",
    "plt.plot(test_losses, label='Testing loss')\n",
    "plt.legend()"
   ]
  },
  {
   "cell_type": "code",
   "execution_count": null,
   "metadata": {},
   "outputs": [],
   "source": []
  }
 ],
 "metadata": {
  "kernelspec": {
   "display_name": "Python (fastai-3.7)",
   "language": "python",
   "name": "fastai-3.7"
  },
  "language_info": {
   "codemirror_mode": {
    "name": "ipython",
    "version": 3
   },
   "file_extension": ".py",
   "mimetype": "text/x-python",
   "name": "python",
   "nbconvert_exporter": "python",
   "pygments_lexer": "ipython3",
   "version": "3.7.1"
  }
 },
 "nbformat": 4,
 "nbformat_minor": 2
}
