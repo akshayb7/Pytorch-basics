{
 "cells": [
  {
   "cell_type": "markdown",
   "metadata": {},
   "source": [
    "Load in the data first"
   ]
  },
  {
   "cell_type": "code",
   "execution_count": 3,
   "metadata": {},
   "outputs": [],
   "source": [
    "import torch\n",
    "from torch import nn\n",
    "import torch.nn.functional as F\n",
    "from torchvision import datasets, transforms\n",
    "from collections import OrderedDict\n",
    "\n",
    "transform = transforms.Compose([transforms.ToTensor(),\n",
    "                               transforms.Normalize((0.5,0.5,0.5),(0.5,0.5,0.5))])\n",
    "\n",
    "trainset = datasets.MNIST('~/.pytorch/MNIST_data/', download=True, train=True, transform=transform)\n",
    "trainloader = torch.utils.data.DataLoader(trainset, batch_size=64, shuffle=True)"
   ]
  },
  {
   "cell_type": "markdown",
   "metadata": {},
   "source": [
    "Define the model"
   ]
  },
  {
   "cell_type": "code",
   "execution_count": 7,
   "metadata": {},
   "outputs": [
    {
     "data": {
      "text/plain": [
       "Sequential(\n",
       "  (hidden1): Linear(in_features=784, out_features=256, bias=True)\n",
       "  (Relu1): ReLU()\n",
       "  (hidden2): Linear(in_features=256, out_features=64, bias=True)\n",
       "  (Relu2): ReLU()\n",
       "  (output): Linear(in_features=64, out_features=10, bias=True)\n",
       "  (log_softmax): LogSoftmax()\n",
       ")"
      ]
     },
     "execution_count": 7,
     "metadata": {},
     "output_type": "execute_result"
    }
   ],
   "source": [
    "model = nn.Sequential(\n",
    "    OrderedDict([\n",
    "        ('hidden1', nn.Linear(784,256)),\n",
    "        ('Relu1', nn.ReLU()),\n",
    "        ('hidden2', nn.Linear(256,64)),\n",
    "        ('Relu2', nn.ReLU()),\n",
    "        ('output', nn.Linear(64,10)),\n",
    "        ('log_softmax', nn.LogSoftmax(dim=1))\n",
    "    ]))\n",
    "\n",
    "model"
   ]
  },
  {
   "cell_type": "markdown",
   "metadata": {},
   "source": [
    "Setting up loss function"
   ]
  },
  {
   "cell_type": "code",
   "execution_count": 20,
   "metadata": {},
   "outputs": [
    {
     "name": "stdout",
     "output_type": "stream",
     "text": [
      "tensor([[0.0863, 0.0893, 0.0845, 0.0690, 0.1152, 0.1195, 0.1027, 0.1129, 0.1217,\n",
      "         0.0989]], grad_fn=<ExpBackward>)\n",
      "tensor(2.4709, grad_fn=<NllLossBackward>)\n",
      "tensor(2.3353, grad_fn=<NllLossBackward>)\n"
     ]
    }
   ],
   "source": [
    "criterion = nn.NLLLoss() # Negative Log Likelihood loss\n",
    "\n",
    "# Run\n",
    "images, labels = next(iter(trainloader))\n",
    "\n",
    "# Loss calc for single image\n",
    "out = model(images[0].view(1,-1))\n",
    "probabilities = torch.exp(out)\n",
    "print(probabilities)\n",
    "\n",
    "print(criterion(out, labels[0].view(1)))\n",
    "\n",
    "# Loss calc for a batch\n",
    "logits = model(images.view(images.shape[0], -1)) # Basically batch size * 784 here\n",
    "\n",
    "loss = criterion(logits, labels)\n",
    "\n",
    "print(loss)"
   ]
  },
  {
   "cell_type": "code",
   "execution_count": null,
   "metadata": {},
   "outputs": [],
   "source": []
  }
 ],
 "metadata": {
  "kernelspec": {
   "display_name": "Python (fastai-3.7)",
   "language": "python",
   "name": "fastai-3.7"
  },
  "language_info": {
   "codemirror_mode": {
    "name": "ipython",
    "version": 3
   },
   "file_extension": ".py",
   "mimetype": "text/x-python",
   "name": "python",
   "nbconvert_exporter": "python",
   "pygments_lexer": "ipython3",
   "version": "3.7.1"
  }
 },
 "nbformat": 4,
 "nbformat_minor": 2
}
